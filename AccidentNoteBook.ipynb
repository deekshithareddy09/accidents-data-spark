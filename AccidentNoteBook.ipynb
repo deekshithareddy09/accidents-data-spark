{
 "cells": [
  {
   "cell_type": "code",
   "execution_count": 40,
   "metadata": {},
   "outputs": [
    {
     "data": {
      "text/plain": [
       "[[u'11/7/2015 4:20',\n",
       "  u'\"MIAMI-DADE, FLORIDA\"',\n",
       "  u'N. W. 17TH AVENUE',\n",
       "  u'Florida East Coast Railway Company',\n",
       "  u'TRESPASSER WAS RIDING A BICYCLE AND WENT AROUND THE CROSSING GATE AND WAS STRUCK BY TRAIN SUSTAINING FATAL INJURIES.'],\n",
       " [u'10/6/2015 20:40',\n",
       "  u'\"DAGGETT, CALIFORNIA\"',\n",
       "  u'DAGGETT YERMO RD',\n",
       "  u'BNSF Railway Company',\n",
       "  u'DRIVER AGE UNKNOWN 41: UNOCCUPIED BICYCLE'],\n",
       " [u'8/23/2015 13:39',\n",
       "  u'\"SAN ANTONIO, TEXAS\"',\n",
       "  u'E. HOUSTON STREET',\n",
       "  u'Union Pacific Railroad Company',\n",
       "  u\"HIGHWAY USER'S ACTIONS: BICYCLE RIDER CRASHED ON HIS OWN BEFORE HE REACHED THE TRACKS. HE WALKED ACROSS THE TRACK AND THE BACK END OF HIS BICYCLE WAS CLIPPED BY THE TRAIN.\"],\n",
       " [u'8/13/2015 0:01',\n",
       "  u'\"CENTRALIA, WASHINGTON\"',\n",
       "  u'LOCUST ST',\n",
       "  u'BNSF Railway Company',\n",
       "  u'13: BICYCLE'],\n",
       " [u'7/31/2015 11:30',\n",
       "  u'\"WASHINGTON COURT HO, OHIO\"',\n",
       "  u'PEARL STREET',\n",
       "  u'Indiana & Ohio Railway',\n",
       "  u'PEDESTRIAN RIDING BICYCLE WESTWARD ATTEMPTED UNSUCCESSFULLY TO CROSS IN FRONT OF A MOVING TRAIN. WITNESSES STATED THAT IT APPEARED THAT THE BICYCLIST DID NOT OBSERVE THE TRAIN UNTIL IT WAS TOO LATE TO AVOID THE COLLISION. BICYCLIST WAS STRUCK ALONG THE REAR OF THE BICYCLE AND EJECTED. BICYCLIST WASTRANSPORTED TO FAYETTE COUNTY MEMORIAL HOSPITAL FOR TREATMENT'],\n",
       " [u'7/14/2015 18:45',\n",
       "  u'\"BERWYN, ILLINOIS\"',\n",
       "  u'HARLEM AVE',\n",
       "  u'Burlington Northern Santa Fe Suburban Operations',\n",
       "  u'13: BICYCLE 41: PRECEDED GATES'],\n",
       " [u'6/25/2015 20:33',\n",
       "  u'\"MILTON CENTER, OHIO\"',\n",
       "  u'SUGAR STREET',\n",
       "  u'CSX Transportation',\n",
       "  u'9 YEAR OLD MINOR PEDESTRIAN RIDING A BICYCLE TRIED TO BEAT THE TRAIN. PROTECTION AT CROSSING ALSO INCLUDES: STOP LINES AND RR XING SYMBOLS.'],\n",
       " [u'5/21/2015 11:13',\n",
       "  u'\"RIVERSIDE, CALIFORNIA\"',\n",
       "  u'MISSION INN AVE',\n",
       "  u'BNSF Railway Company',\n",
       "  u'13: BICYCLE'],\n",
       " [u'5/19/2015 20:33',\n",
       "  u'\"WEST PALM BEACH, FLORIDA\"',\n",
       "  u'OLD OKEECHOBEE ROAD',\n",
       "  u'South Florida Regional Transit Authority',\n",
       "  u'\"TRESPASSER, ON A BICYCLE, RODE AROUND THE LOWERED CROSSING GATE AND WAS STRUCK BY THE NORTHBOUND TRAIN. FIRE RESCUE TRANSPORTED HIM TO A MEDICAL FACILITY FOR TREATMENT BUT HE EXPIRED FROM MULTIPLE LIFE-THREATENING INJURIES.\"'],\n",
       " [u'4/11/2015 19:05',\n",
       "  u'\"YPSILANTI, MICHIGAN\"',\n",
       "  u'RIVER ST @ CROSS',\n",
       "  u'Amtrak (National Railroad Passenger Corporation)',\n",
       "  u'\"TRAIN 352 OPERATING WITH TWO LOCOMOTIVES AND 6 CARS STRUCK A PEDESTRIAN WALKING A BICYCLE ACROSS THE TRACKS AT MP 29.43, RIVER AND CROSS ST CROSSING. THERE WAS NO EQUIPMENT DAMAGE.\"']]"
      ]
     },
     "execution_count": 40,
     "metadata": {},
     "output_type": "execute_result"
    }
   ],
   "source": [
    "\n",
    "import ibmos2spark\n",
    "\n",
    "# @hidden_cell\n",
    "credentials = {\n",
    "    'endpoint': 'https://s3-api.us-geo.objectstorage.service.networklayer.com',\n",
    "    'api_key': '8PYb26wQ6e9rBCRq-qDKfxNvCJYrwKer-UsbG5h1YPzi',\n",
    "    'service_id': 'iam-ServiceId-d893a308-1749-4a32-8f2b-14690ccc9b7b',\n",
    "    'iam_service_endpoint': 'https://iam.ng.bluemix.net/oidc/token'}\n",
    "\n",
    "configuration_name = 'os_6e958f27870447f5b7a77cd647953e48_configs'\n",
    "cos = ibmos2spark.CloudObjectStorage(sc, credentials, configuration_name, 'bluemix_cos')\n",
    "\n",
    "from pyspark.sql import SparkSession\n",
    "spark = SparkSession.builder.getOrCreate()\n",
    "# Please read the documentation of PySpark to learn more about the possibilities to load data files.\n",
    "# PySpark documentation: https://spark.apache.org/docs/2.0.1/api/python/pyspark.sql.html#pyspark.sql.SparkSession\n",
    "# The SparkSession object is already initialized for you.\n",
    "# The following variable contains the path to your file on your IBM Cloud Object Storage.\n",
    "keyword = 'bicycle'\n",
    "path_1 = cos.url('allDataTsv.txt', 'accidentsbytype6250bd93b4f843049b9b368699662867')\n",
    "rdd = sc.textFile(path_1)\n",
    "rdd.map(lambda x: x.split('\\t')).filter(lambda y: y[4].lower().find(keyword.lower())!=-1).take(10)\n"
   ]
  },
  {
   "cell_type": "code",
   "execution_count": null,
   "metadata": {},
   "outputs": [],
   "source": []
  }
 ],
 "metadata": {
  "kernelspec": {
   "display_name": "Python 2 with Spark 2.1",
   "language": "python",
   "name": "python2-spark21"
  },
  "language_info": {
   "codemirror_mode": {
    "name": "ipython",
    "version": 2
   },
   "file_extension": ".py",
   "mimetype": "text/x-python",
   "name": "python",
   "nbconvert_exporter": "python",
   "pygments_lexer": "ipython2",
   "version": "2.7.11"
  }
 },
 "nbformat": 4,
 "nbformat_minor": 1
}
