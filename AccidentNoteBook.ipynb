{
    "metadata": {
        "language_info": {
            "codemirror_mode": {
                "name": "ipython", 
                "version": 2
            }, 
            "pygments_lexer": "ipython2", 
            "file_extension": ".py", 
            "name": "python", 
            "version": "2.7.11", 
            "mimetype": "text/x-python", 
            "nbconvert_exporter": "python"
        }, 
        "kernelspec": {
            "language": "python", 
            "display_name": "Python 2 with Spark 2.1", 
            "name": "python2-spark21"
        }
    }, 
    "nbformat": 4, 
    "cells": [
        {
            "metadata": {}, 
            "execution_count": 47, 
            "cell_type": "code", 
            "source": "# The code was removed by DSX for sharing.", 
            "outputs": [
                {
                    "name": "stdout", 
                    "output_type": "stream", 
                    "text": "+----------------+--------------------+-------------------+--------------------+--------------------+\n|              _1|                  _2|                 _3|                  _4|                  _5|\n+----------------+--------------------+-------------------+--------------------+--------------------+\n|  11/7/2015 4:20|\"MIAMI-DADE, FLOR...|  N. W. 17TH AVENUE|Florida East Coas...|TRESPASSER WAS RI...|\n| 10/6/2015 20:40|\"DAGGETT, CALIFOR...|   DAGGETT YERMO RD|BNSF Railway Company|DRIVER AGE UNKNOW...|\n| 8/23/2015 13:39|\"SAN ANTONIO, TEXAS\"|  E. HOUSTON STREET|Union Pacific Rai...|HIGHWAY USER'S AC...|\n|  8/13/2015 0:01|\"CENTRALIA, WASHI...|          LOCUST ST|BNSF Railway Company|         13: BICYCLE|\n| 7/31/2015 11:30|\"WASHINGTON COURT...|       PEARL STREET|Indiana & Ohio Ra...|PEDESTRIAN RIDING...|\n| 7/14/2015 18:45|  \"BERWYN, ILLINOIS\"|         HARLEM AVE|Burlington Northe...|13: BICYCLE 41: P...|\n| 6/25/2015 20:33|\"MILTON CENTER, O...|       SUGAR STREET|  CSX Transportation|9 YEAR OLD MINOR ...|\n| 5/21/2015 11:13|\"RIVERSIDE, CALIF...|    MISSION INN AVE|BNSF Railway Company|         13: BICYCLE|\n| 5/19/2015 20:33|\"WEST PALM BEACH,...|OLD OKEECHOBEE ROAD|South Florida Reg...|\"TRESPASSER, ON A...|\n| 4/11/2015 19:05|\"YPSILANTI, MICHI...|   RIVER ST @ CROSS|Amtrak (National ...|\"TRAIN 352 OPERAT...|\n| 4/11/2015 14:15|\"ROCKY MOUNT, NOR...|          GOLD LEAF|Amtrak (National ...|TRAIN 89 OPERATIN...|\n| 3/17/2015 19:40|\"FORT LAUDERDALE,...|   N. E. 3RD AVENUE|Florida East Coas...|TRESPASSER WAS RI...|\n| 3/14/2015 17:20|           LOUISIANA|      CEMETERY ROAD|Union Pacific Rai...|HIGHWAY USER'S AC...|\n| 3/11/2015 19:40|\"VILLA PARK, ILLI...|       NORTH AVEUNE|\"Chicago, Central...|OPERATOR OF A MOT...|\n| 2/10/2015 19:29|\"SALISBURY, NORTH...|          E 11TH ST|Amtrak (National ...|\"TRAIN 79 OPERATI...|\n|   2/3/2015 9:10| \"BASILE, LOUISIANA\"|     S. RYAN AVENUE|Union Pacific Rai...|TRAIN STRUCK PEDE...|\n| 1/29/2015 11:17|\"CHULA VISTA, CAL...|           L STREET|San Diego Trolley...|\"ON JANUARY 29, 2...|\n| 1/26/2015 10:40|\"SPOKANE, WASHING...|        ALKI AVENUE|Union Pacific Rai...|HIGHWAY USER'S AC...|\n|11/20/2014 13:30|      \"MARION, OHIO\"|      DARIUS STREET|Norfolk Southern ...|NS TRAIN STRUCK A...|\n| 11/5/2014 19:15| \"EMPORIA, VIRGINIA\"|      LOW GROUND RD|Amtrak (National ...|\"AUTO TRAIN 53 OP...|\n+----------------+--------------------+-------------------+--------------------+--------------------+\nonly showing top 20 rows\n\n"
                }
            ]
        }, 
        {
            "metadata": {}, 
            "execution_count": null, 
            "cell_type": "code", 
            "source": "", 
            "outputs": []
        }
    ], 
    "nbformat_minor": 1
}